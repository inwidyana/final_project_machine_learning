{
  "nbformat": 4,
  "nbformat_minor": 0,
  "metadata": {
    "colab": {
      "name": "lstm.ipynb",
      "version": "0.3.2",
      "provenance": [],
      "include_colab_link": true
    },
    "kernelspec": {
      "name": "python3",
      "display_name": "Python 3"
    }
  },
  "cells": [
    {
      "cell_type": "markdown",
      "metadata": {
        "id": "view-in-github",
        "colab_type": "text"
      },
      "source": [
        "<a href=\"https://colab.research.google.com/github/inwidyana/final_project_machine_learning/blob/master/lstm.ipynb\" target=\"_parent\"><img src=\"https://colab.research.google.com/assets/colab-badge.svg\" alt=\"Open In Colab\"/></a>"
      ]
    },
    {
      "cell_type": "code",
      "metadata": {
        "id": "1FHKuF0nTLJQ",
        "colab_type": "code",
        "colab": {
          "base_uri": "https://localhost:8080/",
          "height": 34
        },
        "outputId": "e92953e6-5b88-45da-8690-8c83f5aaf54c"
      },
      "source": [
        "from keras.models import Model\n",
        "from keras.layers import Input, GRU, Dense\n",
        "import numpy as np\n",
        "import tensorflow as tf\n",
        "import os"
      ],
      "execution_count": 1,
      "outputs": [
        {
          "output_type": "stream",
          "text": [
            "Using TensorFlow backend.\n"
          ],
          "name": "stderr"
        }
      ]
    },
    {
      "cell_type": "code",
      "metadata": {
        "id": "cJMzurAeTe5O",
        "colab_type": "code",
        "colab": {}
      },
      "source": [
        "batch_size = 64  # Batch size for training.\n",
        "epochs = 1  # Number of epochs to train for.\n",
        "latent_dim = 256  # Latent dimensionality of the encoding space.\n",
        "num_samples = 100  # Number of samples to train on. My memory is killing me\n",
        "\n",
        "path_to_zip = tf.keras.utils.get_file(\n",
        "    'training-parallel-nc-v8.tgz', origin='http://statmt.org/wmt13/training-parallel-nc-v8.tgz',\n",
        "    extract=True)\n",
        "\n",
        "# Dataset\n",
        "data_de = os.path.dirname(path_to_zip)+\"/training/news-commentary-v8.de-en.de\"\n",
        "data_en = os.path.dirname(path_to_zip)+\"/training/news-commentary-v8.de-en.en\""
      ],
      "execution_count": 0,
      "outputs": []
    },
    {
      "cell_type": "code",
      "metadata": {
        "id": "VWvMFKcNTjrd",
        "colab_type": "code",
        "colab": {
          "base_uri": "https://localhost:8080/",
          "height": 102
        },
        "outputId": "44f657a0-1de7-4f17-9385-1d0db28e9c85"
      },
      "source": [
        "# Set contains unique values\n",
        "input_characters = set()\n",
        "target_characters = set()\n",
        "\n",
        "# Split each line to lists\n",
        "with open(data_de, 'r', encoding='utf-8') as data:\n",
        "    input_texts = data.read().split('\\n')\n",
        "with open(data_en, 'r', encoding='utf-8') as data:\n",
        "    target_texts = data.read().split('\\n')\n",
        "\n",
        "input_texts = input_texts[: min(num_samples, len(input_texts) - 1)]\n",
        "target_texts = target_texts[: min(num_samples, len(target_texts) - 1)]\n",
        "\n",
        "# Add new chars\n",
        "for line in input_texts:\n",
        "    for char in line:\n",
        "        if char not in input_characters:\n",
        "            input_characters.add(char)\n",
        "for line in target_texts:\n",
        "    for char in line:\n",
        "        if char not in target_characters:\n",
        "            target_characters.add(char)\n",
        "\n",
        "# Sort\n",
        "input_characters = sorted(list(input_characters))\n",
        "target_characters = sorted(list(target_characters))\n",
        "\n",
        "# How many different characters\n",
        "num_encoder_tokens = len(input_characters)\n",
        "num_decoder_tokens = len(target_characters)\n",
        "\n",
        "# Sequence max lengths\n",
        "max_encoder_seq_length = max([len(txt) for txt in input_texts])\n",
        "max_decoder_seq_length = max([len(txt) for txt in target_texts])\n",
        "\n",
        "print('Number of training data :', len(input_texts))\n",
        "print('Number of unique input tokens:', num_encoder_tokens)\n",
        "print('Number of unique output tokens:', num_decoder_tokens)\n",
        "print('Max input length:', max_encoder_seq_length)\n",
        "print('Max output length:', max_decoder_seq_length)\n",
        "\n",
        "# Map a number to the characters\n",
        "input_token_index = dict([(char, i) for i, char in enumerate(input_characters)])\n",
        "target_token_index = dict([(char, i) for i, char in enumerate(target_characters)])\n",
        "\n",
        "# (size of input, max sequence, number of unique possible values)\n",
        "encoder_input = np.zeros((len(input_texts), max_encoder_seq_length, num_encoder_tokens))\n",
        "decoder_input = np.zeros((len(input_texts), max_decoder_seq_length, num_decoder_tokens))\n",
        "decoder_target = np.zeros((len(input_texts), max_decoder_seq_length, num_decoder_tokens))\n",
        "\n",
        "# zip returns set of index + item\n",
        "for i, (input_text, target_text) in enumerate(zip(input_texts, target_texts)):\n",
        "    for t, char in enumerate(input_text):\n",
        "        encoder_input[i, t, input_token_index[char]] = 1.\n",
        "    for t, char in enumerate(target_text):\n",
        "        # decoder_target_data is ahead of decoder_input_data by one timestep\n",
        "        decoder_input[i, t, target_token_index[char]] = 1.\n",
        "        if t > 0:\n",
        "            # decoder_target_data will be ahead by one timestep and will not include the start character.\n",
        "            decoder_target[i, t - 1, target_token_index[char]] = 1."
      ],
      "execution_count": 3,
      "outputs": [
        {
          "output_type": "stream",
          "text": [
            "Number of training data : 100\n",
            "Number of unique input tokens: 73\n",
            "Number of unique output tokens: 71\n",
            "Max input length: 320\n",
            "Max output length: 284\n"
          ],
          "name": "stdout"
        }
      ]
    },
    {
      "cell_type": "code",
      "metadata": {
        "id": "5ENwlUdZTqi1",
        "colab_type": "code",
        "colab": {
          "base_uri": "https://localhost:8080/",
          "height": 156
        },
        "outputId": "6b67c596-eb09-45f6-b6aa-1412b4ca980a"
      },
      "source": [
        "# Initiate Keras tensor input\n",
        "encoder_inputs = Input(shape=(None, num_encoder_tokens))\n",
        "# Return state = output of the last time step , return sequence = returns all time step\n",
        "encoder = GRU(latent_dim, return_state=True)\n",
        "encoder_outputs, state_h = encoder(encoder_inputs)\n",
        "# We discard `encoder_outputs` and only keep the states. h = hidden"
      ],
      "execution_count": 4,
      "outputs": [
        {
          "output_type": "stream",
          "text": [
            "WARNING: Logging before flag parsing goes to stderr.\n",
            "W0622 13:10:00.072146 140061441275776 deprecation_wrapper.py:119] From /usr/local/lib/python3.6/dist-packages/keras/backend/tensorflow_backend.py:74: The name tf.get_default_graph is deprecated. Please use tf.compat.v1.get_default_graph instead.\n",
            "\n",
            "W0622 13:10:00.093815 140061441275776 deprecation_wrapper.py:119] From /usr/local/lib/python3.6/dist-packages/keras/backend/tensorflow_backend.py:517: The name tf.placeholder is deprecated. Please use tf.compat.v1.placeholder instead.\n",
            "\n",
            "W0622 13:10:00.099984 140061441275776 deprecation_wrapper.py:119] From /usr/local/lib/python3.6/dist-packages/keras/backend/tensorflow_backend.py:4138: The name tf.random_uniform is deprecated. Please use tf.random.uniform instead.\n",
            "\n"
          ],
          "name": "stderr"
        }
      ]
    },
    {
      "cell_type": "code",
      "metadata": {
        "id": "-CAfs36GTsi5",
        "colab_type": "code",
        "colab": {
          "base_uri": "https://localhost:8080/",
          "height": 258
        },
        "outputId": "9e7e6adb-6041-4f17-b146-5b58586c39ef"
      },
      "source": [
        "# Set up the decoder, using encoder_states as initial state.\n",
        "decoder_inputs = Input(shape=(None, num_decoder_tokens))\n",
        "decoder_gru = GRU(latent_dim, return_sequences=True)\n",
        "decoder_outputs = decoder_gru(decoder_inputs,\n",
        "                                     initial_state=state_h)\n",
        "\n",
        "# Softmax layer\n",
        "decoder_dense = Dense(num_decoder_tokens, activation='softmax')\n",
        "decoder_outputs = decoder_dense(decoder_outputs)\n",
        "\n",
        "# Define the model architecture\n",
        "model = Model([encoder_inputs, decoder_inputs], decoder_outputs)\n",
        "\n",
        "# Train\n",
        "model.compile(optimizer ='rmsprop', loss ='categorical_crossentropy', metrics = ['accuracy'])\n",
        "model.fit([encoder_input, decoder_input], decoder_target,\n",
        "          batch_size=batch_size,\n",
        "          epochs=epochs,\n",
        "validation_split=0.2)"
      ],
      "execution_count": 5,
      "outputs": [
        {
          "output_type": "stream",
          "text": [
            "W0622 13:10:11.892312 140061441275776 deprecation_wrapper.py:119] From /usr/local/lib/python3.6/dist-packages/keras/optimizers.py:790: The name tf.train.Optimizer is deprecated. Please use tf.compat.v1.train.Optimizer instead.\n",
            "\n",
            "W0622 13:10:11.913230 140061441275776 deprecation_wrapper.py:119] From /usr/local/lib/python3.6/dist-packages/keras/backend/tensorflow_backend.py:3295: The name tf.log is deprecated. Please use tf.math.log instead.\n",
            "\n",
            "W0622 13:10:12.037016 140061441275776 deprecation.py:323] From /usr/local/lib/python3.6/dist-packages/tensorflow/python/ops/math_grad.py:1250: add_dispatch_support.<locals>.wrapper (from tensorflow.python.ops.array_ops) is deprecated and will be removed in a future version.\n",
            "Instructions for updating:\n",
            "Use tf.where in 2.0, which has the same broadcast rule as np.where\n",
            "W0622 13:10:13.104914 140061441275776 deprecation_wrapper.py:119] From /usr/local/lib/python3.6/dist-packages/keras/backend/tensorflow_backend.py:986: The name tf.assign_add is deprecated. Please use tf.compat.v1.assign_add instead.\n",
            "\n"
          ],
          "name": "stderr"
        },
        {
          "output_type": "stream",
          "text": [
            "Train on 80 samples, validate on 20 samples\n",
            "Epoch 1/1\n",
            "80/80 [==============================] - 6s 72ms/step - loss: 1.5828 - acc: 0.5542 - val_loss: 1.4677 - val_acc: 0.7018\n"
          ],
          "name": "stdout"
        },
        {
          "output_type": "execute_result",
          "data": {
            "text/plain": [
              "<keras.callbacks.History at 0x7f625efa05c0>"
            ]
          },
          "metadata": {
            "tags": []
          },
          "execution_count": 5
        }
      ]
    },
    {
      "cell_type": "code",
      "metadata": {
        "id": "Fzg5RGzQTvWu",
        "colab_type": "code",
        "colab": {}
      },
      "source": [
        ""
      ],
      "execution_count": 0,
      "outputs": []
    }
  ]
}